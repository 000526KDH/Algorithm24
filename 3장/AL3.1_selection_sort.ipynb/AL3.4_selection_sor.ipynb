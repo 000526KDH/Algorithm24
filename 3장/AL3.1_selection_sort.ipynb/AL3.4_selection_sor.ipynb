{
 "cells": [
  {
   "cell_type": "markdown",
   "metadata": {},
   "source": []
  },
  {
   "cell_type": "markdown",
   "metadata": {},
   "source": [
    "최근접 쌍의 거리 문제"
   ]
  },
  {
   "cell_type": "markdown",
   "metadata": {},
   "source": [
    "1)문제정의\n",
    "문제이름 : 정렬되지 않은 리스트의 탐색문제\n",
    "문제설명 : "
   ]
  },
  {
   "cell_type": "markdown",
   "metadata": {},
   "source": [
    "\n",
    "2)알고리즘 설명\n",
    "명칭 : \n",
    "입력 : \n",
    "출력 : \n",
    "처리순서 : \n",
    "\n",
    "3)손으로 푼 예제\n",
    "\n",
    "4)알고리즘 개요(입력 변수,출력,알고리즘 개요)\n",
    "\n",
    "5)알고리즘코드(PY,C)\n",
    "\n",
    "\n",
    "6)테스트 코드(PY,C)\n",
    "\n",
    "7)수행 결과(MD,결과 캡쳐하여 이미지로 삽입)\n",
    "\n",
    "8)복잡도 분석(MD)\n"
   ]
  }
 ],
 "metadata": {
  "language_info": {
   "name": "python"
  }
 },
 "nbformat": 4,
 "nbformat_minor": 2
}
