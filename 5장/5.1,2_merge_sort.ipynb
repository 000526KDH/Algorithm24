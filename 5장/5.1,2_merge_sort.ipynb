{
 "cells": [
  {
   "cell_type": "markdown",
   "metadata": {},
   "source": [
    "## 알고리즘 예제 5.1,5.2 병합정렬\n",
    "\n",
    "## 1.문제정의:병합정렬 알고리즘\n",
    "## 알고리즘 설명 : A[left,right]를 오름차순으로 정렬후 리스트를 균등분할하여 부분리스트를 정렬하고 병합한다.\n",
    "\n",
    "## 수행결과 : Original : [5, 3, 8, 4, 9, 1, 6, 2, 7]\n",
    "##           MergeSort: [1, 2, 3, 4, 5, 6, 7, 8, 9]\n",
    "\n",
    "## 복잡도 분석 : O(n log2 n)"
   ]
  },
  {
   "cell_type": "code",
   "execution_count": null,
   "metadata": {},
   "outputs": [],
   "source": [
    "## 5.1 알고리즘\n",
    "\n",
    "def merge_sort(A,left,right):\n",
    "    if left<right:\n",
    "        mid = (left+right)//2\n",
    "        merge_sort(A,left,mid)\n",
    "        merge_sort(A,mid+1,right)\n",
    "        merge(A,left,mid,right)\n"
   ]
  },
  {
   "cell_type": "code",
   "execution_count": null,
   "metadata": {},
   "outputs": [],
   "source": [
    "##5.2 알고리즘\n",
    "\n",
    "def merge(A,left,mid,right):\n",
    "    k = left\n",
    "    i = left\n",
    "    j = mid + 1\n",
    "    while i <= mid and j <= right:\n",
    "        if A[i] <= A[j]:\n",
    "            sorted[k] = A[i]\n",
    "            i, k = i+1, k+1\n",
    "        else:\n",
    "            sorted[k]=A[j]\n",
    "            j,k = j+1, k+1\n",
    "\n",
    "    if i > mid:\n",
    "        sorted[k:k+right-j+1]=A[j:right+1]\n",
    "    else:\n",
    "        sorted[k:k+mid-i+1]=A[i:mid+1]\n",
    "\n",
    "    A[left:right+1]=sorted[left:right+1]\n"
   ]
  },
  {
   "cell_type": "code",
   "execution_count": null,
   "metadata": {},
   "outputs": [],
   "source": [
    "##테스트 코드 (5.1,5.2)\n",
    "\n",
    "def merge_sort(A,left,right):\n",
    "    if left<right:\n",
    "        mid = (left+right)//2\n",
    "        merge_sort(A,left,mid)\n",
    "        merge_sort(A,mid+1,right)\n",
    "        merge(A,left,mid,right)\n",
    "\n",
    "def merge(A,left,mid,right):\n",
    "    k = left\n",
    "    i = left\n",
    "    j = mid + 1\n",
    "    while i <= mid and j <= right:\n",
    "        if A[i] <= A[j]:\n",
    "            sorted[k] = A[i]\n",
    "            i, k = i+1, k+1\n",
    "        else:\n",
    "            sorted[k]=A[j]\n",
    "            j,k = j+1, k+1\n",
    "\n",
    "    if i > mid:\n",
    "        sorted[k:k+right-j+1]=A[j:right+1]\n",
    "    else:\n",
    "        sorted[k:k+mid-i+1]=A[i:mid+1]\n",
    "\n",
    "    A[left:right+1]=sorted[left:right+1]\n",
    "\n",
    "data=[5,3,8,4,9,1,6,2,7]\n",
    "sorted=[0]*len(data)\n",
    "print(\"Original :\",data)\n",
    "merge_sort(data,0,len(data)-1)\n",
    "print(\"MergeSort:\",data)"
   ]
  },
  {
   "cell_type": "code",
   "execution_count": null,
   "metadata": {},
   "outputs": [],
   "source": []
  }
 ],
 "metadata": {
  "kernelspec": {
   "display_name": "Python 3",
   "language": "python",
   "name": "python3"
  },
  "language_info": {
   "codemirror_mode": {
    "name": "ipython",
    "version": 3
   },
   "file_extension": ".py",
   "mimetype": "text/x-python",
   "name": "python",
   "nbconvert_exporter": "python",
   "pygments_lexer": "ipython3",
   "version": "3.10.2"
  }
 },
 "nbformat": 4,
 "nbformat_minor": 2
}
